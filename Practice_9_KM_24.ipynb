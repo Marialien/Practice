{
  "cells": [
    {
      "cell_type": "markdown",
      "metadata": {
        "id": "FMqboNwO4rVs"
      },
      "source": [
        "# **Курс \"Програмування на мові Python\"**"
      ]
    },
    {
      "cell_type": "markdown",
      "metadata": {
        "id": "A2T6MigL5Z06"
      },
      "source": [
        "## **Практичне зайняття №9**\n",
        "\n",
        "### Тема: \"Робота з функціями. Локальні та глобальні змінні\""
      ]
    },
    {
      "cell_type": "markdown",
      "metadata": {
        "id": "cfCdgK2zXm7e"
      },
      "source": [
        "### **Завдання 1 (3 бали)**\n",
        "\n",
        "**Підрахувати визначник матриці, використовуючи правило перестановок.**\n",
        "\n",
        "Функція random_matrix() призначена для створення квадратної матриці випадкових чисел. Її змінювати непотрібно.\n",
        "\n",
        "Приклад використання методу permutations() для створення списку перестановок також подається у комірці з кодом.\n",
        "\n",
        "1) Створити 3 функції: функцію створення списку перестановок, функцію підрахунку добутків та функцію підрахунку загальної суми.\n",
        "\n",
        "2) Кожна функція має супроводжуватись рядком документації, що буде коротко описувати її призначення.\n",
        "\n",
        "3) Розмірність квадратної матриці має вводитись користувачем з клавіатури. Підрахунки виконувати лише в тому разі, якщо користувач введе ціле додатне число.\n",
        "\n",
        "4) Загальний результат повинен підраховуватись за допомогою композиції функцій.\n",
        "\n",
        "За бажанням можна перевірити правильність роботи програми за допомогою функції np.linalg.det(a)."
      ]
    },
    {
      "cell_type": "code",
      "execution_count": null,
      "metadata": {
        "id": "ifNX2M7LXm7f"
      },
      "outputs": [],
      "source": [
        "import numpy as np\n",
        "\n",
        "import itertools\n",
        "\n",
        "def random_matrix(dim):\n",
        "    \"\"\"\n",
        "    The function generates dim x dim array of integers\n",
        "    between 0 and 10.\n",
        "    \"\"\"\n",
        "    matrix = np.random.randint(10, size = (dim, dim))\n",
        "    return matrix\n",
        "\n",
        "\n",
        "def factorial(n):\n",
        "    \"\"\"\n",
        "    The funcion return factorial of 'n'\n",
        "    \"\"\"\n",
        "    j = 1\n",
        "    \n",
        "    for i in range(1, n+1):\n",
        "        j = j*i\n",
        "    return j\n",
        "\n",
        "\n",
        "def permutation_list(matrix):\n",
        "    \"\"\"\n",
        "    The fucntion return permutation list for matrix and it`s sign\n",
        "    \"\"\"\n",
        "    n = len(matrix)\n",
        "    \n",
        "    index = list(itertools.permutation(list(i for i in range(1, n+1)), n))\n",
        "\n",
        "    all_permutation = []\n",
        "\n",
        "    for item in index:\n",
        "        k = 1\n",
        "        for i in range(len(item)):\n",
        "            all_permutation.append(int(matrix[i][int(item[i])-1]))    \n",
        "            for Item in range(i):\n",
        "                if item[Item] > item[i]:\n",
        "                    k *= -1\n",
        "        all_permutation.append(k)\n",
        "    list_permutation = np.array_split(all_permutation, factorial(n))\n",
        "    return list_permutation\n",
        "\n",
        "\n",
        "def multiplicationСalculator(list_permutation):\n",
        "    \"\"\"\n",
        "    The function finds the sign and product of permutations\n",
        "    \"\"\"\n",
        "    list_multiplication = []\n",
        "\n",
        "    for item in list_permutation:\n",
        "        list_multiplication.append(np.prod(item))\n",
        "    return list_multiplication\n",
        "\n",
        "\n",
        "def sumСalculator(list_multiplication):\n",
        "    \"\"\"\n",
        "    The fucntion calculate det(A) and\n",
        "    find sum of multiplication of permutation\n",
        "    \"\"\"\n",
        "    d = sum(list_multiplication)\n",
        "    return d\n",
        "\n",
        "\n",
        "def is_input_true(n):\n",
        "    try:\n",
        "        n = int(n)\n",
        "\n",
        "        if n >= 0:\n",
        "            return True\n",
        "\n",
        "        else:\n",
        "            print('It is can not be negative')\n",
        "            return False\n",
        "\n",
        "    except ValueError:\n",
        "        print('Size can not be like this')\n",
        "        return False\n",
        "\n",
        "\n",
        "n = input('Matrix size:')\n",
        "\n",
        "while not is_input_true(n):\n",
        "    n = input('Matrix size):')\n",
        "\n",
        "n = int(n)\n",
        "\n",
        "matrix = random_matrix(n)\n",
        "\n",
        "print(matrix)\n",
        "\n",
        "print('det(A):' + str(sumСalculator(multiplicationСalculator(permutation_list(matrix)))))\n",
        "\n",
        "print('det(A) as np.linalg.det(a):' + str(round(np.linalg.det(matrix),3)))"
      ]
    }
  ],
  "metadata": {
    "colab": {
      "collapsed_sections": [],
      "name": "Practice_7_KM-01_.ipynb",
      "provenance": []
    },
    "kernelspec": {
      "display_name": "Python 3.10.7 64-bit",
      "language": "python",
      "name": "python3"
    },
    "language_info": {
      "name": "python",
      "version": "3.10.7"
    },
    "vscode": {
      "interpreter": {
        "hash": "417ea7f0a758eb3c72945e73d15c37cfe8a154ed9a070bc801f9f0f096a75ce0"
      }
    }
  },
  "nbformat": 4,
  "nbformat_minor": 0
}
