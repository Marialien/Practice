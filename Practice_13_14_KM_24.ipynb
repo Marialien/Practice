{
  "cells": [
    {
      "cell_type": "markdown",
      "metadata": {
        "id": "FMqboNwO4rVs"
      },
      "source": [
        "# **Курс \"Програмування на мові Python\"**"
      ]
    },
    {
      "cell_type": "markdown",
      "metadata": {
        "id": "A2T6MigL5Z06"
      },
      "source": [
        "## **Практичні зайняття №13-14**\n",
        "\n",
        "### Тема: \"Робота з файлами. Робота зі спеціальними форматами файлів\""
      ]
    },
    {
      "cell_type": "markdown",
      "metadata": {
        "id": "cfCdgK2zXm7e"
      },
      "source": [
        "### **Завдання 1 (1,5 бали)**\n",
        "\n",
        "У 1939 році друком вийшов роман американського письменика Ернеста Вінсента Райта \"Ґетсбі\". Особливу увагу публіки він здобув через те, що письменник жодного разу не використав у романі літеру \"e\" (роман складається з більше ніж 50,000 слів), яка є найбільш вживаною літерою в англійській мові.\n",
        "\n",
        "Порахуйте кількість входжень кожної літери у текст роману. Виведіть список літер англійського алфавіту, а також інформацію про те, скільки відсотків від усіх літер тексту складає кожна літера алфавіту.\n",
        "\n",
        "Зауваження:\n",
        "\n",
        "1. Програма має ігнорувати будь-які символи, окрім літер.\n",
        "\n",
        "2. Переведіть усі літери у верхній або у нижній регістр.\n",
        "\n",
        "3. Під час виведення відсортуйте літери у порядку зменшення їхнього відсотка. Літера \"e\" має стояти на останньому місці у цьому списку (хоча кілька літер e там все ж таки зустрічається).\n",
        "\n",
        "4. Виведіть перші 5 та останні 5 літер відсортованого списку разом з відсотковими значеннями, що їм відповідають. Відсотки округліть до тисячних."
      ]
    },
    {
      "cell_type": "code",
      "execution_count": null,
      "metadata": {
        "id": "u4-fHJJ6U462",
        "tags": []
      },
      "outputs": [],
      "source": [
        "import string\n",
        "\n",
        "f = open('gadsby.txt', 'r')\n",
        "\n",
        "letterss = dict([(letter, 0) for letter in string.ascii_uppercase])\n",
        "\n",
        "for line in f:\n",
        "    for ele in line[:-1].upper():\n",
        "        if ele in letterss.keys():\n",
        "            letters[ele] += 1\n",
        "\n",
        "f.close()\n",
        "\n",
        "letters_count = sum(letterss.values())\n",
        "\n",
        "letterss = sorted(letterss.items(), key = lambda x: -x[1])\n",
        "\n",
        "for letter, count in letterss[:5]:\n",
        "    percent = round(100 * count/letters_count, 3)\n",
        "    print(f\"{letter} - {percent}%\")\n",
        "\n",
        "print('.......')\n",
        "\n",
        "for letter, count in letterss[-5:]:\n",
        "    percent = round(100 * count/letters_count, 3)\n",
        "    print(f\"{letter} - {percent}%\")"
      ]
    },
    {
      "cell_type": "markdown",
      "metadata": {
        "id": "A34oz70eU463"
      },
      "source": [
        "### **Завдання 2 (1,5 бали)**\n",
        "\n",
        "Архів archive.zip містить 140 txt-файлів, в яких збережено інфорамцію про те, якими іменами називали дітей у США в період з 1880 по 2019 рік.\n",
        "\n",
        "Структура рядка кожного файлу така:\n",
        "\n",
        "*name,sex,number_of_occurrences*\n",
        "\n",
        "Напишіть програму, яка зчитуватиме кожен файл та визначатиме окремо чоловічі, окремо жіночі імена, що були найпопулярнішими хоча б в один з років. Далі програма повинна підраховувати, скільки разів кожне з цих імен ставало найпопулярнишим, та виводити ранжовані списки чоловічіх та жіночих імен у вигляді:\n",
        "\n",
        "```\n",
        "Michael 44\n",
        "John 44\n",
        "Robert 17\n",
        "...\n",
        "\n",
        "Mary 76\n",
        "Jennifer 15\n",
        "Emily 12\n",
        "...\n",
        "```"
      ]
    },
    {
      "cell_type": "code",
      "execution_count": null,
      "metadata": {},
      "outputs": [],
      "source": [
        "import os\n",
        "import itertools\n",
        "\n",
        "directory = 'archive'\n",
        "\n",
        "def split_str(s):\n",
        "    name, sex, occ = s.split(';')\n",
        "\n",
        "    return name, sex, int(occ)\n",
        "\n",
        "\n",
        "def namess(names, sex):\n",
        "    return max(filter(lambda x: x[1] == sex, names), key=lambda x: x[2])\n",
        "\n",
        "\n",
        "def dict_inc(d, key):\n",
        "    d[key] = d.get(key, 0) + 1\n",
        "    \n",
        "    \n",
        "def sorted_namess(d):\n",
        "    return sorted(d.items(), key=lambda x: x[1], reverse=True)\n",
        "\n",
        "m, f = dict(), dict()\n",
        "\n",
        "for filename in filter(lambda x: x.endswith('.txt'), os.listdir(directory)):\n",
        "    \n",
        "    with open(os.path.join(directory, filename)) as file:\n",
        "        names = list(map(split_str, file))\n",
        "\n",
        "        max_m = max_name(names, 'M')[0]\n",
        "        max_f = max_name(names, 'F')[0]\n",
        "\n",
        "        dict_inc(m, max_m)\n",
        "        dict_inc(f, max_f)\n",
        "\n",
        "M = sorted_namess(m)\n",
        "F = sorted_namess(f)\n",
        "\n",
        "for k, v in itertools.chain(M, F):\n",
        "    print(k, v)"
      ]
    },
    {
      "cell_type": "markdown",
      "metadata": {},
      "source": [
        "### **Завдання 3 (1,5 бали)**\n",
        "\n",
        "Створіть CSV-файл, що буде містити від 5 до 10 пісень (творів) вашого улюбленого музиканта. Назва файлу - ім'я музиканта (композитора) або назва гурту.\n",
        "\n",
        "1. Обов'язково додайте до файлу рядок з назвами двох колонок (Song, Year) або (Composition, Year).\n",
        "\n",
        "2. Після запису файлу роздрукуйте назву файлу та усі наявні у файлі рядки (включно із заголовками).\n",
        "\n",
        "3. Для запису та зчитування рядків скористайтесь функціями csv.DictWriter() та csv.DictReader()."
      ]
    },
    {
      "cell_type": "code",
      "execution_count": null,
      "metadata": {},
      "outputs": [],
      "source": [
        "import csv\n",
        "filename = 'STRAY_KIDS.csv'\n",
        "\n",
        "with open('STRAY_KIDS.csv', 'w', newline='') as csvfile:\n",
        "\n",
        "    fieldnames = ['Song', 'Year']\n",
        "\n",
        "    writer = csv.DictWriter(csvfile, fieldnames=fieldnames)\n",
        "\n",
        "    writer.writeheader()\n",
        "\n",
        "    writer.writerow({'Song': 'My pace',\n",
        "                     'Year': '2018',})\n",
        "\n",
        "    writer.writerow({'Song': 'Double Knot',\n",
        "                     'Year': '2019',})\n",
        "\n",
        "    writer.writerow({'Song': 'Voices',\n",
        "                     'Year': '2020',})\n",
        "\n",
        "    writer.writerow({'Song': 'ALL IN',\n",
        "                     'Year': '2020',})\n",
        "\n",
        "    writer.writerow({'Song': 'Hellevator',\n",
        "                     'Year': '2018',})\n",
        "\n",
        "    writer.writerow({'Song': 'VENOM',\n",
        "                     'Year': '2022',})\n",
        "\n",
        "with open('STRAY_KIDS.csv', newline='') as csvfile:\n",
        "\n",
        "    reader = csv.DictReader(csvfile)\n",
        "\n",
        "    print(f'\\n{filename}')\n",
        "\n",
        "    for row in reader:\n",
        "        print(row['Song'], ' - ', row['Year'])"
      ]
    },
    {
      "cell_type": "markdown",
      "metadata": {},
      "source": [
        "### **Завдання 4 (1,5 бали)**\n",
        "\n",
        "COCO Dataset - набір фотографій та анотацій до них. Його дуже часто використовують для тренування класифікаторів, призначених для розпізнавання об'єктів та визначення ключових точок на зображеннях.\n",
        "\n",
        "Завантажте файли з описом фотографій COCO Dataset за посиланням: [COCO Dataset](http://images.cocodataset.org/annotations/image_info_test2017.zip).\n",
        "\n",
        "Відкрийте файл image_info_test-dev2017.json. Інформація про фотографії з бази COCO міститься у полі \"images\". Інформація про категорії, на які розділені всі фотографії, міститься у полі \"categories\".\n",
        "\n",
        "1. Визначте кількість фотографій, інформацію про які можна знайти у цьому файлі (кількість елементів, що відповідають ключу \"images\").\n",
        "\n",
        "2. Визначте кількість наявних категорій (кількість елементів, що відповідають ключу \"categories\").\n",
        "\n",
        "3. Виведіть посилання на фотографію 000000000001.jpg (\"coco_url\"). Також виведіть висоту цієї фотографії (\"height\"), ширину (\"width\") та її ідентифікатор (\"id\").\n",
        "\n",
        "4. Виведіть назву фотографії з набільшим номером.\n",
        "\n",
        "Опис структури JSON-файлу для набору фотографій COCO можна знайти за посиланням: [Data format](https://cocodataset.org/#format-data).\n",
        "\n",
        "Щоб перевірити правильність результатів, у VS Code встановіть розширення JSON та відкрийте файл image_info_test-dev2017.json. Розширення автоматично визначає кількість елементів у кожному полі."
      ]
    },
    {
      "cell_type": "code",
      "execution_count": null,
      "metadata": {},
      "outputs": [],
      "source": [
        "import json\n",
        "\n",
        "filename = 'dataset.json'\n",
        "\n",
        "data = None\n",
        "\n",
        "with open(filename) as file:\n",
        "    data = json.load(file)\n",
        "\n",
        "print('images:', len(data.get('images', [])))\n",
        "print('categories:', len(data.get('categories', [])))\n",
        "\n",
        "for image in data.get('images', []):\n",
        "    if not image.get('file_name', '') == '000000000001.jpg':\n",
        "        continue\n",
        "\n",
        "    print('URL:', image.get('coco_url', 'no url'))\n",
        "    print('HEIGHT:', image.get('height', -1))\n",
        "    print('WIDTH:', image.get('width', -1))\n",
        "    print('ID:', image.get('id', -1))\n",
        "\n",
        "max_img = max(data.get('images'), key=lambda x: x.get('id', 0))\n",
        "\n",
        "max_img.get('file_name', 'no file name')"
      ]
    }
  ],
  "metadata": {
    "colab": {
      "collapsed_sections": [],
      "name": "Practice_14_KM_01.ipynb",
      "provenance": []
    },
    "kernelspec": {
      "display_name": "Python 3.10.7 64-bit",
      "language": "python",
      "name": "python3"
    },
    "language_info": {
      "codemirror_mode": {
        "name": "ipython",
        "version": 3
      },
      "file_extension": ".py",
      "mimetype": "text/x-python",
      "name": "python",
      "nbconvert_exporter": "python",
      "pygments_lexer": "ipython3",
      "version": "3.10.7"
    },
    "vscode": {
      "interpreter": {
        "hash": "417ea7f0a758eb3c72945e73d15c37cfe8a154ed9a070bc801f9f0f096a75ce0"
      }
    }
  },
  "nbformat": 4,
  "nbformat_minor": 0
}
