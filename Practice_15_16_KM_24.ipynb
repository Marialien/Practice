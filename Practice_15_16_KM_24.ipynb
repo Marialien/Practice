{
  "cells": [
    {
      "cell_type": "markdown",
      "metadata": {
        "id": "FMqboNwO4rVs"
      },
      "source": [
        "# **Курс \"Програмування на мові Python\"**"
      ]
    },
    {
      "attachments": {},
      "cell_type": "markdown",
      "metadata": {
        "id": "A2T6MigL5Z06"
      },
      "source": [
        "## **Практичні зайняття №15-16**\n",
        "\n",
        "### Тема: \"Ітератори та генератори. Декоратори\""
      ]
    },
    {
      "cell_type": "markdown",
      "metadata": {
        "id": "cfCdgK2zXm7e"
      },
      "source": [
        "### **Завдання 1 (2 бали)**\n",
        "\n",
        "Розрахуйте коефієнти розкладу [біному Ньютона](https://uk.wikipedia.org/wiki/%D0%91%D1%96%D0%BD%D0%BE%D0%BC_%D0%9D%D1%8C%D1%8E%D1%82%D0%BE%D0%BD%D0%B0) за допомогою генератора.\n",
        "\n",
        "1. Степінь многочлена користувач має вводити з клавіатури (невід'ємне ціле число).\n",
        "\n",
        "2. Програма має підраховувати біноміальні коефіцієнти для біномів усіх степенів, починаючи від 0 і закінчуючи тим, який ввів користувач.\n",
        "\n",
        "3. Коефіцієнти мають виводитись у вигляді трикутника Паскаля.\n",
        "\n",
        "Наприклад, якщо користувач введе число 5, програма має вивести результат:\n",
        "\n",
        "1\n",
        "\n",
        "1 1\n",
        "\n",
        "1 2 1\n",
        "\n",
        "1 3 3 1\n",
        "\n",
        "1 4 6 4 1\n",
        "\n",
        "1 5 10 10 5 1\n"
      ]
    },
    {
      "cell_type": "code",
      "execution_count": null,
      "metadata": {
        "id": "Bku8v9CjE_Qc"
      },
      "outputs": [],
      "source": [
        "try:\n",
        "\n",
        "    num = int(input('Number: '))\n",
        "    if num < 0: raise ValueError\n",
        "\n",
        "except:\n",
        "    print('Input is not correct!')\n",
        "    \n",
        "else:\n",
        "\n",
        "    def binom(num):\n",
        "\n",
        "        coef = [1]\n",
        "        \n",
        "        yield coef\n",
        "\n",
        "        while len(coef) <= num:\n",
        "\n",
        "            new_coef = [1]\n",
        "\n",
        "            for i in range(len(coef) - 1):\n",
        "                new_coef.append(coef[i] + coef[i + 1])\n",
        "            new_coef.append(1)\n",
        "\n",
        "            coef = new_coef\n",
        "\n",
        "            yield coef\n",
        "\n",
        "    for coefs in binom(num):\n",
        "        for c in coefs:\n",
        "            print(c, end=' ')\n",
        "\n",
        "        print()"
      ]
    },
    {
      "cell_type": "markdown",
      "metadata": {},
      "source": [
        "### **Завдання 2 (1 бал)**\n",
        "\n",
        "Реалізуйте генератор колоди карт (52 штуки). Кожна карта подається у вигляді рядка типу \"*5 diamonds*\".\n",
        "\n",
        "1. 4 масті (diamonds, clubs, hearts, spades) та 13 значень карт мають зберігатись у двох окремих списках (кортежах).\n",
        "\n",
        "2. Значення від 2 до 10 мають гереруватись за допомогою функції range().\n",
        "\n",
        "3. Окрім чисел, у списку значень мають бути присутніми елементи 'A' (Ace - туз), 'J' (Jack - валет), 'Q' (Queen - дама) та 'K' (King - король).\n",
        "\n",
        "4. Карти мають виводитись у порядку від 'A' до 'K'. Порядок виведення мастей не має значення.\n",
        "\n",
        "    *Приклад:*\n",
        "\n",
        "    А diamonds\n",
        "\n",
        "    2 diamonds\n",
        "\n",
        "    ...\n",
        "\n",
        "    K diamonds\n",
        "\n",
        "    A clubs\n",
        "\n",
        "    ...\n",
        "\n",
        "5. Кожна наступна карта має виводитись за допомогою функції next().\n",
        "\n",
        "6. Виведення карт має завершуватись виключенням StopIteration."
      ]
    },
    {
      "cell_type": "code",
      "execution_count": null,
      "metadata": {},
      "outputs": [],
      "source": [
        "card_suit = ['Diamonds', 'Clubs', 'Hearts', 'Spades']\n",
        "\n",
        "values = ['A'] + [i for i in range(2, 11)] + ['J', 'Q', 'K']\n",
        "\n",
        "\n",
        "def give_card(card_suit, values):\n",
        "        for item in card_suit:\n",
        "            for Item in values:\n",
        "                yield (str(Item) + ' ' + item)\n",
        "\n",
        "\n",
        "start = give_card(card_suit, values)\n",
        "\n",
        "try:\n",
        "    for n in range(100):\n",
        "        print(next(start))\n",
        "\n",
        "except StopIteration:\n",
        "    print('End') "
      ]
    },
    {
      "attachments": {},
      "cell_type": "markdown",
      "metadata": {},
      "source": [
        "### **Завдання 3 (3 бали)**\n",
        "\n",
        "Реалізуйте підрахунок площі трикутника з використанням декоратора, який перевірятиме можливість побудови трикутника з трьох введених користувачем сторін.\n",
        "\n",
        "1. Напишіть функцію area_calculation, яка підраховуватиме площу трикутника за трьома сторонами. Для підрахунку можете скористатись формулою Герона.\n",
        "\n",
        "2. Напишіть функцію check, яка перевірятиме правильність введених користувачем значень (значення мають бути додатними числами, не обов'язково цілими).\n",
        "\n",
        "3. Створіть декоратор triangle_ineq, який перевірятиме виконання нерівності трикутрика для трьох заданих користувачем сторін. Навісьте декоратор triangle_ineq на функція area_calculation та перевірте правильність роботи програми."
      ]
    },
    {
      "cell_type": "code",
      "execution_count": null,
      "metadata": {},
      "outputs": [],
      "source": [
        "a = input('a:')\n",
        "\n",
        "b = input('b:')\n",
        "\n",
        "c = input('c:')\n",
        "\n",
        "def check(a, b, c):\n",
        "    try:\n",
        "\n",
        "        a = float(a)\n",
        "\n",
        "        b = float(b)\n",
        "\n",
        "        c = float(c)\n",
        "\n",
        "        if (a <= 0) or (b <= 0) or (c <= 0):\n",
        "            raise ValueError\n",
        "\n",
        "        else:\n",
        "            return True\n",
        "\n",
        "    except:\n",
        "        return False\n",
        "\n",
        "def triangle_ineq(func):\n",
        "    def wrapper(*args, **kwargs):\n",
        "        a, b, c = tuple(map(float, args))\n",
        "        if (a + b > c) and (a + c > b) and (b + c > a):\n",
        "            print('Area:', func(*args, **kwargs))\n",
        "        else:\n",
        "            print('It is not correct...')\n",
        "    \n",
        "    return wrapper\n",
        "        \n",
        "@triangle_ineq\n",
        "def area_calculation(a, b, c):\n",
        "\n",
        "    a = float(a)\n",
        "\n",
        "    b = float(b)\n",
        "\n",
        "    c = float(c)\n",
        "\n",
        "    return ((a+b+c)*(a+b-c)*(a-b+c)*(-a+b+c)/16)**0.5\n",
        "\n",
        "if not check(a, b, c):\n",
        "    print('It is not correct...')\n",
        "\n",
        "else:\n",
        "    area_calculation(a, b, c)"
      ]
    }
  ],
  "metadata": {
    "colab": {
      "collapsed_sections": [],
      "name": "Practice_10-11_KM_01_.ipynb",
      "provenance": []
    },
    "kernelspec": {
      "display_name": "Python 3.10.7 64-bit",
      "language": "python",
      "name": "python3"
    },
    "language_info": {
      "codemirror_mode": {
        "name": "ipython",
        "version": 3
      },
      "file_extension": ".py",
      "mimetype": "text/x-python",
      "name": "python",
      "nbconvert_exporter": "python",
      "pygments_lexer": "ipython3",
      "version": "3.10.7"
    },
    "vscode": {
      "interpreter": {
        "hash": "417ea7f0a758eb3c72945e73d15c37cfe8a154ed9a070bc801f9f0f096a75ce0"
      }
    }
  },
  "nbformat": 4,
  "nbformat_minor": 0
}
