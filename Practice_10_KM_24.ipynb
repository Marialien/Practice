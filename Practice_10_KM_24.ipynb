{
  "cells": [
    {
      "cell_type": "markdown",
      "metadata": {
        "id": "FMqboNwO4rVs"
      },
      "source": [
        "# **Курс \"Програмування на мові Python\"**"
      ]
    },
    {
      "cell_type": "markdown",
      "metadata": {
        "id": "A2T6MigL5Z06"
      },
      "source": [
        "## **Практичне зайняття №10**\n",
        "\n",
        "### Тема: \"Лямбда-функції. Функції вищих порядків\""
      ]
    },
    {
      "cell_type": "markdown",
      "metadata": {
        "id": "cfCdgK2zXm7e"
      },
      "source": [
        "### **Завдання 1 (1 бал)**\n",
        "\n",
        "Продавець роздрібного товару влаштовує розпродаж. Для всіх товарів знижка однакова - 60%. Щоб вивісити нові цінники, продавець хоче скласти таблицю, в якій для кожного товару буде підрахована його нова вартість та сума знижки.\n",
        "\n",
        "Написати програму, яка буде генерувати таку таблицю. Вартість одиниць товарів до розпродажу подано у списку products_list. \n",
        "\n",
        "1. Для підрахунку невідомих значень повинні використовуватись вбудовані функції вищих порядків.\n",
        "\n",
        "2. Вартість з урахуванням знижки та суми знижок для кожного товару повинні зберігатись у двох окремих списках. Порядок товарів у нових списках повинен бути такий самий, як і в списку products_list.\n",
        "\n",
        "3. Кожне підраховане числове значення має бути округлене до сотих.\n",
        "\n",
        "4. Дані повинні виводитись у вигляді:\n",
        "\n",
        "**Discount table:**\n",
        "\n",
        "**15.89 6.36 9.53**\n",
        "\n",
        "**39.99 16.0 23.99**\n",
        "\n",
        "**...**\n",
        "\n",
        "\n",
        "products_list = [15.89, 39.99, 82.10, 135.85, 318.90, 510.00, 799.98]"
      ]
    },
    {
      "cell_type": "code",
      "execution_count": null,
      "metadata": {
        "id": "ifNX2M7LXm7f"
      },
      "outputs": [],
      "source": [
        "products_list = [15.89, 39.99, 82.10, 135.85, 318.90, 510.00, 799.98]\n",
        "\n",
        "sale = list()\n",
        "\n",
        "disc = list()\n",
        "\n",
        "disc = list(map(lambda x:round((x*0.6),2),products_list))\n",
        "\n",
        "sale = list(map(lambda x,y:round((x-y),2),products_list,disc))\n",
        "\n",
        "print('Discount table:')\n",
        "\n",
        "for i in range(len(products_list)):\n",
        "    print(f'{products_list[i]:<8}{sale[i]:^9}{disc[i]:>7}')"
      ]
    },
    {
      "cell_type": "markdown",
      "metadata": {},
      "source": [
        "### **Завдання 2 (2 бали)**\n",
        "\n",
        "Зазвичай рік має 365 днів. Однак у високосні роки додається ще один день - 29 лютого. Правила визначення високосного року такі:\n",
        "\n",
        "- Будь-який рік, що ділиться на 400 - високосний.\n",
        "\n",
        "- З тих років, що залишились, будь-який рік, що ділиться на 100 - **не** високосний.\n",
        "\n",
        "- З тих років, що залишились, будь-який рік, що ділиться на 4 - високосний.\n",
        "\n",
        "- Усі інші роки, що залишились - **не** високосні.\n",
        "\n",
        "1) Створіть функцію, в якій за допомогою вбудованих функцій вищих порядків будуть визначатися високосні роки серед перелічених років у списку years. Створена функція має повертати список високосних років.\n",
        "\n",
        "2) Створіть функцію вищих порядків, яка прийматиме на вхід попередню функцію та визначатиме кількість днів у місяці. Також функція повинна приймати на вхід ще 2 параметри: ціле число від 1 до 12 (місяць) та рік, як ціле чотирицифрове число. Ці значення корисувач має вводити з клавіатури. Перевірку введених даних слід виконувати поза межами функцій."
      ]
    },
    {
      "cell_type": "code",
      "execution_count": null,
      "metadata": {},
      "outputs": [],
      "source": [
        "import numpy as np\n",
        "\n",
        "import calendar\n",
        "\n",
        "from calendar import monthrange\n",
        "\n",
        "years = np.arange(1900, 2020+1, 1)\n",
        "\n",
        "\n",
        "def years_leap(years):\n",
        "\n",
        "    leap = list(filter(lambda x: x%4==0 and x%100!=0, years))\n",
        "    for item in list(filter(lambda x: x%100==0 and x%16==0, years)):\n",
        "        leap.append(item)\n",
        "    leap.sort()\n",
        "    \n",
        "    return leap\n",
        "\n",
        "\n",
        "def days_in_month(years_leap, year, month):\n",
        "\n",
        "    if year in years_leap:\n",
        "        print('Days:' + str(monthrange(year, month)[1]))\n",
        "\n",
        "    else:\n",
        "        print('Year isn`t leap')\n",
        "\n",
        "\n",
        "def correctInput(a):\n",
        "\n",
        "    try:\n",
        "        a = int(a)\n",
        "        return True\n",
        "\n",
        "    except ValueError:\n",
        "        print('Oops...Error...')\n",
        "        return False\n",
        "\n",
        "\n",
        "month = input('Month:')\n",
        "\n",
        "while not correctInput(month):\n",
        "    month = input('Month:')\n",
        "  \n",
        "month = int(month)\n",
        "\n",
        "\n",
        "year = input('Year:')\n",
        "while not correctInput(year):\n",
        "    year = input('Year:')\n",
        "  \n",
        "year = int(year)\n",
        "\n",
        "\n",
        "days_in_month(years_leap(years), year, month)"
      ]
    }
  ],
  "metadata": {
    "colab": {
      "collapsed_sections": [],
      "name": "Practice_7_KM-01_.ipynb",
      "provenance": []
    },
    "kernelspec": {
      "display_name": "Python 3.10.7 64-bit",
      "language": "python",
      "name": "python3"
    },
    "language_info": {
      "name": "python",
      "version": "3.10.7"
    },
    "vscode": {
      "interpreter": {
        "hash": "417ea7f0a758eb3c72945e73d15c37cfe8a154ed9a070bc801f9f0f096a75ce0"
      }
    }
  },
  "nbformat": 4,
  "nbformat_minor": 0
}
